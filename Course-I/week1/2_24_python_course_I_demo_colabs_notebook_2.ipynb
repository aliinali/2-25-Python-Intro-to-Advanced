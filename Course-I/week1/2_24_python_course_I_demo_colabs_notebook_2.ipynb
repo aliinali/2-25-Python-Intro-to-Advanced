{
  "nbformat": 4,
  "nbformat_minor": 0,
  "metadata": {
    "colab": {
      "provenance": []
    },
    "kernelspec": {
      "name": "python3",
      "display_name": "Python 3"
    },
    "language_info": {
      "name": "python"
    }
  },
  "cells": [
    {
      "cell_type": "markdown",
      "source": [
        "# Introduction to Python 3.0\n",
        "- text is markdown format\n",
        "\n"
      ],
      "metadata": {
        "id": "XMp8JQSdZxwE"
      }
    },
    {
      "cell_type": "code",
      "execution_count": 1,
      "metadata": {
        "colab": {
          "base_uri": "https://localhost:8080/"
        },
        "id": "FnsxfljAYTCj",
        "outputId": "00bd0474-36e6-4c00-8bc9-c7d6afc98def"
      },
      "outputs": [
        {
          "output_type": "stream",
          "name": "stdout",
          "text": [
            "Intro to python 3.0\n"
          ]
        }
      ],
      "source": [
        "#python single line comment\n",
        "\n",
        "\"\"\"\n",
        "python multi\n",
        "line comment\n",
        "\"\"\"\n",
        "\n",
        "'''\n",
        "python multi\n",
        "line comment\n",
        "'''\n",
        "\n",
        "#python comment\n",
        "print(\"Intro to python 3.0\")\n"
      ]
    },
    {
      "cell_type": "code",
      "source": [
        "#python variables\n",
        "#name given to data\n",
        "#in-memory data - to be used later in our code\n",
        "\n",
        "#dynamically assign data type to a varible ie: number, string\n",
        "title = 'Intro to Python' #string\n",
        "#title = \"Intro to Python\" #string\n",
        "version = \"3.0\" #string\n",
        "\n",
        "print(title + version)\n",
        "print(title, version)\n",
        "\n"
      ],
      "metadata": {
        "colab": {
          "base_uri": "https://localhost:8080/"
        },
        "id": "-N4sRshuatpV",
        "outputId": "bcba06a5-dfaf-47da-fdcd-2843191736af"
      },
      "execution_count": 2,
      "outputs": [
        {
          "output_type": "stream",
          "name": "stdout",
          "text": [
            "Intro to Python3.0\n",
            "Intro to Python 3.0\n"
          ]
        }
      ]
    }
  ]
}