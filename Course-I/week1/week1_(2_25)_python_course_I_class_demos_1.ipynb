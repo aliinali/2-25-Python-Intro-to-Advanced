{
  "nbformat": 4,
  "nbformat_minor": 0,
  "metadata": {
    "colab": {
      "provenance": []
    },
    "kernelspec": {
      "name": "python3",
      "display_name": "Python 3"
    },
    "language_info": {
      "name": "python"
    }
  },
  "cells": [
    {
      "cell_type": "markdown",
      "source": [
        "# Intro to python class demo #1\n",
        "- intro to markdown text\n",
        "- markdown is simple text formatting\n",
        "- height title\n",
        "- **bold**, *italic*\n",
        "- lists\n"
      ],
      "metadata": {
        "id": "YhlVZxWXtxZY"
      }
    },
    {
      "cell_type": "code",
      "execution_count": 1,
      "metadata": {
        "id": "iyNl9gQqpeZ_",
        "colab": {
          "base_uri": "https://localhost:8080/"
        },
        "outputId": "0e183eec-5bef-4742-cded-3c24f751563f"
      },
      "outputs": [
        {
          "output_type": "stream",
          "name": "stdout",
          "text": [
            "intro to pyton\n"
          ]
        }
      ],
      "source": [
        "#python single line comment\n",
        "\n",
        "\"\"\"\n",
        "python multi\n",
        "line comment\n",
        "\"\"\"\n",
        "\n",
        "'''\n",
        "python multi\n",
        "line comment\n",
        "'''\n",
        "\n",
        "print(\"intro to pyton\")\n"
      ]
    },
    {
      "cell_type": "code",
      "source": [
        "#python variables - in memory data that you will use later in your code\n",
        "\n",
        "title1 = \"intro to python's\"  #string\n",
        "title2 = 'intro to python\"s'  #string\n",
        "num1 = \"3.0\"    #string\n",
        "num2 = 3    #number - integer number\n",
        "num3 = 3.1    #number - floating point number including decimal\n",
        "var2 = True  #Boolean , true, false\n",
        "\n",
        "print(title1, num1, num2)\n"
      ],
      "metadata": {
        "colab": {
          "base_uri": "https://localhost:8080/"
        },
        "id": "VK1h6BLDvoF3",
        "outputId": "d53eebbb-73ea-42f2-a651-6e96185e4c49"
      },
      "execution_count": 2,
      "outputs": [
        {
          "output_type": "stream",
          "name": "stdout",
          "text": [
            "intro to python's 3.0 3\n"
          ]
        }
      ]
    }
  ]
}