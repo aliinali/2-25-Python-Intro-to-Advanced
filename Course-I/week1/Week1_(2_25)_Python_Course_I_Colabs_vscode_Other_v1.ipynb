{
  "nbformat": 4,
  "nbformat_minor": 0,
  "metadata": {
    "colab": {
      "provenance": []
    },
    "kernelspec": {
      "name": "python3",
      "display_name": "Python 3"
    },
    "language_info": {
      "name": "python"
    }
  },
  "cells": [
    {
      "cell_type": "markdown",
      "source": [
        "#Python Course I - Weekly class demos and Exercises summary  \n",
        "- (Mon, Wed) - (8am-10:30am) - (2.5h class/demos/labs) / 30 min practice\n",
        "- Course I - 7 weeks\n",
        "- Weekly Assignments - 20 hours - due next week Monday\n",
        "- 3 Class Quizzes\n",
        "- Step-by-tep class topic demos\n",
        "\n",
        "#Weekly Topic Summary\n",
        "- Intro to google Colabs\n",
        "  - markdown introduction\n",
        "- Intro to vs.code\n",
        "  - folder, workspace\n",
        "  - command terminal\n",
        "  - exitnsions\n",
        "- Intro to Python\n",
        "- other\n",
        "\n",
        "#Github Course Notebook Refence\n",
        "\n",
        "https://github.com/deanliit/2-25-Python-Intro-to-Advanced\n",
        "\n",
        "#Weekly Homework , Class Assignment, Class Project\n",
        "\n",
        "### Class Quiz - Email link to google forms\n",
        "### Weekly 20 hour Course Labs and Assignments email\n",
        "\n",
        "- practice labs\n",
        "  - exercises from course book\n",
        "\n",
        "\n",
        "## Python references\n",
        "\n",
        "- Course book\n"
      ],
      "metadata": {
        "id": "kkf01IuMAr4_"
      }
    },
    {
      "cell_type": "markdown",
      "source": [
        "Introduction to Python\n",
        "\n",
        "https://www.w3schools.com/python/python_intro.asp\n",
        "\n",
        "\n",
        "<pre>\n",
        "\n",
        "---------------------------------------------\n",
        "#Course I Module Summary\n",
        "-----------------------------------------------\n",
        "\n",
        "# Module 1\n",
        "---------------------------\n",
        "Python fundamentals\n",
        "Data type\n",
        "Variables\n",
        "Input\n",
        "for, while loop\n",
        "Other\n",
        "\n",
        "# Module 2\n",
        "----------------------------\n",
        "Array index\n",
        "Slicers, list comprehension  \n",
        "Functions\n",
        "File input\n",
        "Other\n",
        "\n",
        "# Module 3\n",
        "--------------------------------\n",
        "Data structures\n",
        "Array, set, list, tuple, map\n",
        "Classes\n",
        "Lamda\n",
        "Other\n",
        "\n",
        "#optional - Module 4\n",
        "---------------------------------\n",
        "Intro to data analyst using python\n",
        "Pandas, numpy\n",
        "SQL\n",
        "Other\n",
        "\n",
        "</pre>\n",
        "\n"
      ],
      "metadata": {
        "id": "lhHzTF-3wluD"
      }
    },
    {
      "cell_type": "markdown",
      "source": [
        "Google colabs notebook Summary\n",
        "\n",
        "google CoLabs Introduction\n",
        "\n",
        "- https://colab.research.google.com/\n",
        "\n",
        "colabs introduction\n",
        "\n",
        "- https://www.marqo.ai/blog/getting-started-with-google-colab-a-beginners-guide\n",
        "\n",
        "colabs markdown introduction\n",
        "\n",
        "- https://colab.research.google.com/github/Tanu-N-Prabhu/Python/blob/master/Cheat_sheet_for_Google_Colab.ipynb\n",
        "\n",
        "colabs %%html, %%javascript other\n",
        "\n",
        "- https://ipython.readthedocs.io/en/stable/interactive/magics.html\n",
        "\n",
        "### Intro to google colabs notebook\n",
        "- uses markdown text\n",
        "  - markdown - simplified version of html\n",
        "  - h1, title, bold, lists\n",
        "- google virtual computer: linux os\n",
        "- write python code\n",
        "- schedule notebooks ie: batch programs\n",
        "- can write notebook code in other languages\n",
        "  - javascript, R, SQL\n",
        "  - javs, other languages\n",
        "- each colab notbook is similar to 1 python fil1\n",
        "  - codes from previous cell above can be access be the current cell\n",
        "  - example: varible created in a previous cell can be access by a cell below.\n"
      ],
      "metadata": {
        "id": "7gI_t7uxRr1I"
      }
    },
    {
      "cell_type": "markdown",
      "source": [
        "# Demo Intro to google Colabs\n",
        "  - google colabs document\n",
        "  - markdown introduction\n"
      ],
      "metadata": {
        "id": "tY1w9D4kLzTI"
      }
    },
    {
      "cell_type": "markdown",
      "source": [
        "\n",
        "- Demo Intro to Python\n",
        "  -  https://www.w3schools.com/python/python_intro.asp\n",
        "\n",
        "<pre>\n",
        "# Module 1\n",
        "---------------------------\n",
        "Python fundamentals\n",
        "Data type\n",
        "Variables\n",
        "Input\n",
        "for, while loop\n",
        "Other\n",
        "</pre>\n"
      ],
      "metadata": {
        "id": "kFxguWpML3N3"
      }
    },
    {
      "cell_type": "markdown",
      "source": [
        "# Introduction to Python 3.0\n",
        "- text is markdown format\n",
        "\n"
      ],
      "metadata": {
        "id": "L0bBNLDBfy5O"
      }
    },
    {
      "cell_type": "code",
      "source": [
        "#python single line comment\n",
        "\n",
        "\"\"\"\n",
        "python multi\n",
        "line comment\n",
        "\"\"\"\n",
        "\n",
        "'''\n",
        "python multi\n",
        "line comment`\n",
        "'''\n",
        "\n",
        "#python comment\n",
        "print(\"Intro to python 3.0\")\n"
      ],
      "metadata": {
        "id": "lCsyGf1nPMqc"
      },
      "execution_count": null,
      "outputs": []
    },
    {
      "cell_type": "code",
      "source": [
        "#python variables\n",
        "#name given to data\n",
        "#in-memory data - to be used later in our code\n",
        "\n",
        "#dynamically assign data type to a varible ie: number, string\n",
        "title = 'Intro to Python' #string\n",
        "#title = \"Intro to Python\" #string\n",
        "version = \"3.0\" #string\n",
        "\n",
        "print(title + version)\n",
        "print(title, version)\n",
        "\n"
      ],
      "metadata": {
        "id": "XC8-b0Hkf5TI"
      },
      "execution_count": null,
      "outputs": []
    }
  ]
}