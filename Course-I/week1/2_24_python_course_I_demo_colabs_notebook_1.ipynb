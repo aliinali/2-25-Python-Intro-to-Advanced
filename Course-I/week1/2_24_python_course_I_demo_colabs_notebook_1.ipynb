{
  "nbformat": 4,
  "nbformat_minor": 0,
  "metadata": {
    "colab": {
      "provenance": []
    },
    "kernelspec": {
      "name": "python3",
      "display_name": "Python 3"
    },
    "language_info": {
      "name": "python"
    }
  },
  "cells": [
    {
      "cell_type": "code",
      "execution_count": null,
      "metadata": {
        "id": "7Hl8_UizS7FH"
      },
      "outputs": [],
      "source": [
        "#python single comment\n",
        "\n",
        "\"\"\"\n",
        "python\n",
        "multi line comment\n",
        "\"\"\"\n",
        "\n",
        "print(\"Intro to python 3.0\")\n"
      ]
    },
    {
      "cell_type": "code",
      "source": [
        "#assignemt 1 - example 1\n",
        "\n",
        "#print hello world\n",
        "print(\"Hello, World!\")"
      ],
      "metadata": {
        "id": "E22fMPA6WOJc"
      },
      "execution_count": null,
      "outputs": []
    },
    {
      "cell_type": "code",
      "source": [
        "#- example 2\n"
      ],
      "metadata": {
        "id": "PNPlqBAsXLbR"
      },
      "execution_count": null,
      "outputs": []
    }
  ]
}