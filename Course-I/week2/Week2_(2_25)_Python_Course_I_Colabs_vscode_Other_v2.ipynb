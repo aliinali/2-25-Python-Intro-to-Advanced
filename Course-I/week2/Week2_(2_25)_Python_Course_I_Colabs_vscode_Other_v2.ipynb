{
  "nbformat": 4,
  "nbformat_minor": 0,
  "metadata": {
    "colab": {
      "provenance": []
    },
    "kernelspec": {
      "name": "python3",
      "display_name": "Python 3"
    },
    "language_info": {
      "name": "python"
    }
  },
  "cells": [
    {
      "cell_type": "markdown",
      "source": [
        "#Python Course I - Weekly class demos and Exercises summary  \n",
        "- (Mon, Wed) - (8am-10:30am) - (2.5h class/demos/labs) / 30 min practice\n",
        "- Course I - 7 weeks\n",
        "- Weekly Assignments - 20 hours - due next week Monday\n",
        "- 3 Class Quizzes\n",
        "- Step-by-tep class topic demos\n",
        "\n",
        "#Weekly Topic Summary\n",
        "- Intro to vs.code\n",
        "  - folder, workspace\n",
        "  - command terminal\n",
        "  - exitnsions\n",
        "- Intro to google Colabs\n",
        "  - https://colab.research.google.com/\n",
        "  - markdown introduction\n",
        "- Intro to Python\n",
        "- https://www.w3schools.com/python/python_intro.asp\n",
        "- other\n",
        "\n",
        "# class demo programs\n",
        "  - ie: Python invoice, inventory program version 1...2..3\n",
        "\n",
        "#Github Course Notebook Refence\n",
        "\n",
        "https://github.com/deanliit/2-25-Python-Intro-to-Advanced\n",
        "\n",
        "#Weekly Homework , Class Assignment, Class Project\n",
        "\n",
        "### Class Quiz - Email link to google forms\n",
        "### Weekly 20 hour Course Labs and Assignments email\n",
        "\n",
        "- practice examples from w3schools\n",
        "- examples from course book\n",
        "\n",
        "\n",
        "## Python references\n",
        "\n",
        "- Course book\n"
      ],
      "metadata": {
        "id": "kkf01IuMAr4_"
      }
    },
    {
      "cell_type": "markdown",
      "source": [
        "## Python class - weekly assignment #2 - due on Monday\n",
        "<pre>\n",
        "\n",
        "Reading Assignments:\n",
        "\n",
        "google CoLabs Introduction\n",
        "https://colab.research.google.com/\n",
        "\n",
        "Google colabs introduction\n",
        "https://www.marqo.ai/blog/getting-started-with-google-colab-a-beginners-guide\n",
        "\n",
        "Python tutorial\n",
        "https://www.w3schools.com/python/default.asp\n",
        "\n",
        "Python Strings\n",
        "Python Operators\n",
        "Python If ... Else\n",
        "\n",
        "Assignment exercises\n",
        "Complete all of the exercises, display output from each exercises\n",
        "Optional create exercises in Google Colabs notebooks\n",
        "\n",
        "https://www.w3schools.com/python/python_examples.asp\n",
        "\n",
        "Create a google collabs notebooks\n",
        "Create code in vs.code\n",
        "Complete all of the exercises, display output from each exercises\n",
        "\n",
        "\n",
        "Python Strings\n",
        "Python Operators\n",
        "Python If ... Else\n",
        "\n",
        "\n",
        "</pre>"
      ],
      "metadata": {
        "id": "Y6PvWvErkYoo"
      }
    },
    {
      "cell_type": "markdown",
      "source": [
        "Introduction to Python\n",
        "\n",
        "https://www.w3schools.com/python/python_intro.asp\n",
        "\n",
        "\n",
        "<pre>\n",
        "\n",
        "---------------------------------------------\n",
        "#Course I Module Summary\n",
        "-----------------------------------------------\n",
        "\n",
        "# Module 1\n",
        "---------------------------\n",
        "Python fundamentals\n",
        "Data type\n",
        "Variables\n",
        "Input\n",
        "for, while loop\n",
        "Other\n",
        "\n",
        "# Module 2\n",
        "----------------------------\n",
        "Array index\n",
        "Slicers, list comprehension  \n",
        "Functions\n",
        "File input\n",
        "Other\n",
        "\n",
        "# Module 3\n",
        "--------------------------------\n",
        "Data structures\n",
        "Array, set, list, tuple, map\n",
        "Classes\n",
        "Lamda\n",
        "Other\n",
        "\n",
        "#optional - Module 4\n",
        "---------------------------------\n",
        "Intro to data analyst using python\n",
        "Pandas, numpy\n",
        "SQL\n",
        "Other\n",
        "\n",
        "</pre>\n",
        "\n"
      ],
      "metadata": {
        "id": "lhHzTF-3wluD"
      }
    },
    {
      "cell_type": "markdown",
      "source": [
        "Google colabs notebook Summary\n",
        "\n",
        "google CoLabs Introduction\n",
        "\n",
        "- https://colab.research.google.com/\n",
        "\n",
        "colabs introduction\n",
        "\n",
        "- https://www.marqo.ai/blog/getting-started-with-google-colab-a-beginners-guide\n",
        "\n",
        "colabs markdown introduction\n",
        "\n",
        "- https://colab.research.google.com/github/Tanu-N-Prabhu/Python/blob/master/Cheat_sheet_for_Google_Colab.ipynb\n",
        "\n",
        "colabs %%html, %%javascript other\n",
        "\n",
        "- https://ipython.readthedocs.io/en/stable/interactive/magics.html\n",
        "\n",
        "### Intro to google colabs notebook\n",
        "- uses markdown text\n",
        "  - markdown - simplified version of html\n",
        "  - h1, title, bold, lists\n",
        "- google virtual computer: linux os\n",
        "- write python code\n",
        "- schedule notebooks ie: batch programs\n",
        "- can write notebook code in other languages\n",
        "  - javascript, R, SQL\n",
        "  - javs, other languages\n",
        "- each colab notbook is similar to 1 python fil1\n",
        "  - codes from previous cell above can be access be the current cell\n",
        "  - example: varible created in a previous cell can be access by a cell below.\n"
      ],
      "metadata": {
        "id": "7gI_t7uxRr1I"
      }
    },
    {
      "cell_type": "markdown",
      "source": [
        "#Class Q/A\n",
        "- python best practices online guide summary\n",
        "   - Mastering Python course pdf\n",
        "- code to best knowledge\n",
        "- refactoring, optimizing code\n"
      ],
      "metadata": {
        "id": "4kjmo04SXEIA"
      }
    },
    {
      "cell_type": "markdown",
      "source": [
        "# Demo Intro to google Colabs\n",
        "  - google colabs document\n",
        "  - markdown introduction\n"
      ],
      "metadata": {
        "id": "tY1w9D4kLzTI"
      }
    },
    {
      "cell_type": "markdown",
      "source": [
        "\n",
        "- Demo Intro to Python\n",
        "  -  https://www.w3schools.com/python/python_intro.asp\n",
        "\n",
        "<pre>\n",
        "# Module 1\n",
        "---------------------------\n",
        "Python fundamentals\n",
        "Data type\n",
        "Variables\n",
        "Input\n",
        "for, while loop\n",
        "Other\n",
        "</pre>\n"
      ],
      "metadata": {
        "id": "kFxguWpML3N3"
      }
    },
    {
      "cell_type": "markdown",
      "source": [
        "# Introduction to Python 3.0\n",
        "- text is markdown format\n",
        "\n"
      ],
      "metadata": {
        "id": "L0bBNLDBfy5O"
      }
    },
    {
      "cell_type": "code",
      "source": [
        "#python single line comment\n",
        "\n",
        "\"\"\"\n",
        "python multi\n",
        "line comment\n",
        "\"\"\"\n",
        "\n",
        "'''\n",
        "python multi\n",
        "line comment\n",
        "'''\n",
        "\n",
        "#python comment\n",
        "print(\"Intro to python 3.0\")\n"
      ],
      "metadata": {
        "id": "lCsyGf1nPMqc"
      },
      "execution_count": null,
      "outputs": []
    },
    {
      "cell_type": "code",
      "source": [
        "#python variables\n",
        "#name given to data\n",
        "#in-memory data - to be used later in our code\n",
        "\n",
        "#dynamically assign data type to a varible ie: number, string\n",
        "title = 'Intro to Python' #string\n",
        "#title = \"Intro to Python\" #string\n",
        "version = \"3.0\" #string\n",
        "\n",
        "print(title + version)\n",
        "print(title, version)\n",
        "\n"
      ],
      "metadata": {
        "id": "XC8-b0Hkf5TI"
      },
      "execution_count": null,
      "outputs": []
    },
    {
      "cell_type": "markdown",
      "source": [
        "# Intro to python class demo #1\n",
        "- intro to markdown text\n",
        "- markdown is simple text formatting\n",
        "- height title\n",
        "- **bold**, *italic*\n",
        "- lists\n"
      ],
      "metadata": {
        "id": "nAUXSTKlyhOS"
      }
    },
    {
      "cell_type": "code",
      "source": [
        "#week1-demom-1.py\n",
        "#python single line comment\n",
        "\n",
        "\"\"\"\n",
        "python multi\n",
        "line comment\n",
        "\"\"\"\n",
        "\n",
        "'''\n",
        "python multi\n",
        "line comment\n",
        "'''\n",
        "\n",
        "print(\"intro to pyton\")\n"
      ],
      "metadata": {
        "id": "H1TqkPCthrm7"
      },
      "execution_count": null,
      "outputs": []
    },
    {
      "cell_type": "code",
      "source": [
        "#python variables - in memory data that you will use later in your code\n",
        "\n",
        "title1 = \"intro to python's\"  #string\n",
        "title2 = 'intro to python\"s'  #string\n",
        "num1 = \"3.0\"    #string\n",
        "num2 = 3    #number - integer number\n",
        "num3 = 3.1    #number - floating point number including decimal\n",
        "var2 = True  #Boolean , true, false\n",
        "\n",
        "print(title1, num1, num2)\n"
      ],
      "metadata": {
        "id": "Qu_NNN_yymP6"
      },
      "execution_count": null,
      "outputs": []
    },
    {
      "cell_type": "markdown",
      "source": [
        "#Week2 Class Python Demo #1\n",
        "\n",
        "- install vs.code\n",
        "  - https://code.visualstudio.com/download\n",
        "  - writing python code in vs.code\n",
        "  - vs.code workspaces and folders\n",
        "\n",
        "- https://www.w3schools.com/python/default.asp\n",
        "  - variables\n",
        "  - data type\n",
        "  - casting\n",
        "  - print\n",
        "\n",
        "# demo invoice/inventory program\n",
        "# python console program , other python programs\n",
        "# review of python google colabs notebooks\n",
        "\n",
        "#Review course quiz ie:\n",
        "- 3 quizzes for course 1, approx. every 2 weeks\n",
        "- 1 week to complete quiz\n",
        "- quiz review before and after a quiz\n",
        "- 6 multiple choice and 1 fill-in coding\n",
        "\n"
      ],
      "metadata": {
        "id": "aMfQfHswKEq7"
      }
    },
    {
      "cell_type": "code",
      "source": [
        "#week2-demo-1.py\n",
        "#python variables - in memory data that you will use later in your code\n",
        "\n",
        "title1 = \"intro to python's\"  #string\n",
        "title2 = 'intro to python\"s'  #string\n",
        "num1 = \"3.0\"    #string\n",
        "num2 = 3    #number - integer number\n",
        "num3 = 3.1    #number - floating point number including decimal\n",
        "var2 = True  #Boolean , true, false\n",
        "\n",
        "print(title1, num1, num2)\n"
      ],
      "metadata": {
        "id": "bSy6UP5yNg7t"
      },
      "execution_count": null,
      "outputs": []
    },
    {
      "cell_type": "code",
      "source": [
        "#week2-demo-2.py\n",
        "#python variables - in memory data that you will use later in your code\n",
        "\n",
        "title1 = \"intro to python's\"  #string\n",
        "title2 = 'intro to python\"s'  #string\n",
        "num1 = \"3.0\"    #string\n",
        "num2 = 3    #number - integer number\n",
        "num3 = 3.1    #number - floating point number including decimal\n",
        "var2 = True  #Boolean , true, false\n",
        "\n",
        "#print variables\n",
        "print(title1, num1, num2)\n",
        "#concatination or combining string output\n",
        "print(title2 + num1)\n"
      ],
      "metadata": {
        "colab": {
          "base_uri": "https://localhost:8080/"
        },
        "id": "Zj4IBFNaPbax",
        "outputId": "268edf21-d84a-44ed-f40f-aa8d7d15358a"
      },
      "execution_count": null,
      "outputs": [
        {
          "output_type": "stream",
          "name": "stdout",
          "text": [
            "intro to python's 3.0 3\n",
            "intro to python\"s3.0\n"
          ]
        }
      ]
    },
    {
      "cell_type": "code",
      "source": [
        "#demo quiz question\n",
        "\n",
        "\"\"\"\n",
        "What is the expected output of the following program?\n",
        "\n",
        "a. intro to python's 3.0\n",
        "* b. intro to python's3.0\n",
        "c. intro to python's,3.0\n",
        "d. code error\n",
        "\n",
        "\"\"\"\n",
        "\n",
        "title2 = 'intro to python\"s'  #string\n",
        "num1 = \"3.0\"    #string\n",
        "\n",
        "#print variables\n",
        "print(title2 + num1)\n"
      ],
      "metadata": {
        "colab": {
          "base_uri": "https://localhost:8080/"
        },
        "id": "y7t0FHvHQZxl",
        "outputId": "c08df825-b25a-458c-82a4-17bebaf70198"
      },
      "execution_count": null,
      "outputs": [
        {
          "output_type": "stream",
          "name": "stdout",
          "text": [
            "intro to python\"s3.0\n"
          ]
        }
      ]
    },
    {
      "cell_type": "code",
      "source": [
        "#week2-demo-3.py\n",
        "#python variables - in memory data that you will use later in your code\n",
        "\n",
        "#variables / data types\n",
        "title1 = \"intro to python's\"  #string\n",
        "title2 = 'intro to python\"s'  #string\n",
        "num1 = \"3.0\"    #string\n",
        "num2 = 3    #number - integer number\n",
        "num3 = 3.1    #number - floating point number including decimal\n",
        "var2 = True  #Boolean , true, false\n",
        "\n",
        "#print variables\n",
        "print(title1, num1, num2)\n",
        "#concatination or combining string output\n",
        "print(title2 + num1)\n",
        "#seperator\n",
        "print(title1,num1,num2,sep=\",\")\n"
      ],
      "metadata": {
        "colab": {
          "base_uri": "https://localhost:8080/"
        },
        "id": "MA0t5YhKRp65",
        "outputId": "dd9d33d0-6b77-44f2-82e4-b1e9d17bd080"
      },
      "execution_count": null,
      "outputs": [
        {
          "output_type": "stream",
          "name": "stdout",
          "text": [
            "intro to python's 3.0 3\n",
            "intro to python\"s3.0\n",
            "intro to python's,3.0,3\n"
          ]
        }
      ]
    },
    {
      "cell_type": "code",
      "source": [
        "#week2-demo-4.py\n",
        "#python variables - in memory data that you will use later in your code\n",
        "\n",
        "#variables / data types\n",
        "title1 = \"intro to python's\"  #string\n",
        "title2 = 'intro to python\"s'  #string\n",
        "num1 = \"3.0\"    #string\n",
        "num2 = 3    #number - integer number\n",
        "num3 = 3.1    #number - floating point number including decimal\n",
        "var2 = True  #Boolean , true, false\n",
        "\n",
        "#print variables\n",
        "print(title1, num1, num2)\n",
        "\n",
        "#concatination or combining string output\n",
        "print(title2 + num1)\n",
        "\n",
        "#seperator\n",
        "print(title1,num1,num2,sep=\",\")\n",
        "\n",
        "#print f\n",
        "_str_title = title1 + num1\n",
        "\n",
        "print(f\"{title1},{num1},{num2}, {num3}\")\n",
        "print(f\"{title1 + num1},{num1},{num2}, {num3}\")\n",
        "print(f\"{_str_title},{num1},{num2}, {num3}\")\n",
        "\n",
        "#number , decimal formating\n",
        "print(\"%s, %s\" % (\"title1: \",title1))\n",
        "print(f\"%s, {num3:.2f}\" % title1)\n",
        "\n",
        "print(\"{}\".format(title1))\n",
        "print(\"{} {}\".format(title1, num1))\n",
        "\n",
        "#vs.code install and intro\n",
        "\n",
        "#casting\n",
        "#error when concatinating string and number\n",
        "\n",
        "#sameple python invoice, inventory program vers1..2..3\n"
      ],
      "metadata": {
        "colab": {
          "base_uri": "https://localhost:8080/"
        },
        "id": "s7p2opBeTmue",
        "outputId": "d0a969b4-0e33-4e9d-d333-ea4d1a28aa93"
      },
      "execution_count": 2,
      "outputs": [
        {
          "output_type": "stream",
          "name": "stdout",
          "text": [
            "intro to python's 3.0 3\n",
            "intro to python\"s3.0\n",
            "intro to python's,3.0,3\n",
            "intro to python's,3.0,3, 3.1\n",
            "intro to python's3.0,3.0,3, 3.1\n",
            "intro to python's3.0,3.0,3, 3.1\n",
            "title1: , intro to python's\n",
            "intro to python's, 3.10\n",
            "intro to python's\n",
            "intro to python's 3.0\n"
          ]
        }
      ]
    },
    {
      "cell_type": "markdown",
      "source": [
        "# Software development best practice summary\n",
        "\n",
        "<pre>\n",
        "<xmp>\n",
        "more efficient way of writing program\n",
        "optimizing program, or refactoring program:\n",
        "  --------------------------------------------\n",
        "Development Best practice steps for many programs\n",
        "--------------------------------------------\n",
        "#1. import libraries\n",
        "#2. get user input, files, database, web, other\n",
        "#3. string data type\n",
        "#4. cast string to other data type int, float, bool, other\n",
        "#5. retrive system data and time\n",
        "#6. retrieve day, month, year\n",
        "#7. calculating total for 3 input items\n",
        "#8. calculation or numerical expression\n",
        "#9. rounding\n",
        "#10. cast data from 1 type to another\n",
        "#11. loop through a list of items\n",
        "#12. varify if data is true/false ie: making a decision true/false\n",
        "#13. output data - screen, file, database, web, other\n",
        "# other\n",
        "\n",
        "</xmp>\n",
        "</pre>"
      ],
      "metadata": {
        "id": "2H-EIil_E7yY"
      }
    },
    {
      "cell_type": "code",
      "source": [
        "#week2-demo-app-1.py\n",
        "\n",
        "\"\"\"\n",
        "Write a program to compute total of two invoice/inventory items.\n",
        "note: can use integer or float numbers\n",
        "\n",
        "example:\n",
        "item1 -- 1\n",
        "item2 -- ?\n",
        "\n",
        "total ???\n",
        "\n",
        "#print(\"total: \", total)\n",
        "\n",
        "\"\"\"\n",
        "\n",
        "#solution 1\n",
        "\n",
        "item1 = 5     #int\n",
        "item2 = 10.5  #float\n",
        "\n",
        "#calculation - python expresions\n",
        "total = (item1 + item2)\n",
        "\n",
        "print(\"total: \", total)\n"
      ],
      "metadata": {
        "colab": {
          "base_uri": "https://localhost:8080/"
        },
        "id": "tM3usYWuEmvV",
        "outputId": "e79a111d-d030-45dd-b00b-21588343d219"
      },
      "execution_count": 3,
      "outputs": [
        {
          "output_type": "stream",
          "name": "stdout",
          "text": [
            "total:  15.5\n"
          ]
        }
      ]
    },
    {
      "cell_type": "code",
      "source": [
        "#week2-demo-app-2.py\n",
        "\n",
        "\"\"\"\n",
        "Write a program to compute total of three invoice/inventory items.\n",
        "note: can use integer or float numbers\n",
        "note: can prompt for input\n",
        "\n",
        "example:\n",
        "item1 -- 1\n",
        "item2 -- ?\n",
        "item1 -- 1\n",
        "\n",
        "total ???\n",
        "\n",
        "#print(\"total: \", total)\n",
        "\"\"\"\n"
      ],
      "metadata": {
        "id": "3FZ6X3fMFfP7"
      },
      "execution_count": null,
      "outputs": []
    },
    {
      "cell_type": "code",
      "source": [
        "#week2-demo-app-3.py\n",
        "\n",
        "\"\"\"\n",
        "Write a program to compute total of ten invoice/inventory items.\n",
        "note: can use integer or float numbers\n",
        "note: can prompt for input\n",
        "\n",
        "example:\n",
        "item1 -- 1\n",
        "item2 -- ?\n",
        "item1 -- 1\n",
        "item2 -- ?\n",
        "item1 -- 1\n",
        "item2 -- ?\n",
        "item1 -- 1\n",
        "item2 -- ?\n",
        "\n",
        "total ???\n",
        "\n",
        "#print(\"total: \", total)\n",
        "\"\"\"\n"
      ],
      "metadata": {
        "id": "7I2EZoxVFLhn"
      },
      "execution_count": null,
      "outputs": []
    }
  ]
}