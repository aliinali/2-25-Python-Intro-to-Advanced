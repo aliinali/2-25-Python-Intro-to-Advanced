{
  "nbformat": 4,
  "nbformat_minor": 0,
  "metadata": {
    "colab": {
      "provenance": []
    },
    "kernelspec": {
      "name": "python3",
      "display_name": "Python 3"
    },
    "language_info": {
      "name": "python"
    }
  },
  "cells": [
    {
      "cell_type": "markdown",
      "source": [
        "#Week2 Class Python Demo #1\n",
        "\n",
        "- install vs.code\n",
        "  - https://code.visualstudio.com/download\n",
        "  - writing python code in vs.code\n",
        "  - vs.code workspaces and folders\n",
        "\n",
        "- https://www.w3schools.com/python/default.asp\n",
        "  - variables\n",
        "  - data type\n",
        "  - casting\n",
        "  - print\n",
        "\n",
        "# demo invoice/inventory program\n",
        "# python console program , other python programs\n",
        "# review of python google colabs notebooks\n",
        "\n",
        "#Review course quiz ie:\n",
        "- 3 quizzes for course 1, approx. every 2 weeks\n",
        "- 1 week to complete quiz\n",
        "- quiz review before and after a quiz\n",
        "- 6 multiple choice and 1 fill-in coding\n",
        "\n",
        "\n"
      ],
      "metadata": {
        "id": "cLZCWs6xGAZi"
      }
    },
    {
      "cell_type": "code",
      "execution_count": null,
      "metadata": {
        "id": "yISgPhLVFuQY"
      },
      "outputs": [],
      "source": []
    }
  ]
}